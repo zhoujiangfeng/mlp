{
  "nbformat": 4,
  "nbformat_minor": 0,
  "metadata": {
    "colab": {
      "name": "MLP.ipynb",
      "provenance": [],
      "collapsed_sections": [],
      "authorship_tag": "ABX9TyPAiYg66Xo/Pd4/f2W9yPzY",
      "include_colab_link": true
    },
    "kernelspec": {
      "name": "python3",
      "display_name": "Python 3"
    },
    "language_info": {
      "name": "python"
    }
  },
  "cells": [
    {
      "cell_type": "markdown",
      "metadata": {
        "id": "view-in-github",
        "colab_type": "text"
      },
      "source": [
        "<a href=\"https://colab.research.google.com/github/zhoujiangfeng/mlp/blob/main/MLP.ipynb\" target=\"_parent\"><img src=\"https://colab.research.google.com/assets/colab-badge.svg\" alt=\"Open In Colab\"/></a>"
      ]
    },
    {
      "cell_type": "markdown",
      "source": [
        "# tensorflow从零开始实现多层感知机\n",
        "本项目参考李沐大神《动手学习深度学习》\n",
        "- [多层感知机的从零开始实现-原网页](https://zh-v2.d2l.ai/chapter_multilayer-perceptrons/mlp-scratch.html)\n",
        "- 唯一区别 没有使用书中提供的d2l库，而是从源代码中截取出来，可能略显复杂，但便于后期修改。"
      ],
      "metadata": {
        "id": "iq1PxnQ8tJi6"
      }
    },
    {
      "cell_type": "markdown",
      "source": [
        "## 1. 导入所需库、定义相关函数"
      ],
      "metadata": {
        "id": "2vlsjeP4KzHI"
      }
    },
    {
      "cell_type": "code",
      "source": [
        "import tensorflow as tf\n",
        "from IPython import display\n",
        "from matplotlib_inline import backend_inline\n",
        "import numpy as np"
      ],
      "metadata": {
        "id": "fuMx3pFjtO4T"
      },
      "execution_count": 200,
      "outputs": []
    },
    {
      "cell_type": "code",
      "source": [
        "reshape = tf.reshape\n",
        "argmax = tf.argmax\n",
        "astype = tf.cast\n",
        "reduce_sum = tf.reduce_sum\n",
        "size = lambda a: tf.size(a).numpy()\n",
        "numpy = lambda x, *args, **kwargs: x.numpy(*args, **kwargs)"
      ],
      "metadata": {
        "id": "kZPoamEYGiPA"
      },
      "execution_count": 201,
      "outputs": []
    },
    {
      "cell_type": "code",
      "source": [
        "def get_fashion_mnist_labels(labels):\n",
        "    \"\"\"返回Fashion-MNIST数据集的文本标签\n",
        "    Defined in :numref:`sec_fashion_mnist`\"\"\"\n",
        "    text_labels = ['t-shirt', 'trouser', 'pullover', 'dress', 'coat',\n",
        "                   'sandal', 'shirt', 'sneaker', 'bag', 'ankle boot']\n",
        "    return [text_labels[int(i)] for i in labels]"
      ],
      "metadata": {
        "id": "dwOy3F7p1dXp"
      },
      "execution_count": 202,
      "outputs": []
    },
    {
      "cell_type": "code",
      "source": [
        "def load_data_fashion_mnist(batch_size, resize=None):\n",
        "    \"\"\"下载Fashion-MNIST数据集，然后将其加载到内存中\n",
        "    Defined in :numref:`sec_fashion_mnist`\"\"\"\n",
        "    mnist_train, mnist_test = tf.keras.datasets.fashion_mnist.load_data()\n",
        "    # 将所有数字除以255，使所有像素值介于0和1之间，在最后添加一个批处理维度，\n",
        "    # 并将标签转换为int32。\n",
        "    process = lambda X, y: (tf.expand_dims(X, axis=3) / 255,\n",
        "                            tf.cast(y, dtype='int32'))\n",
        "    resize_fn = lambda X, y: (\n",
        "        tf.image.resize_with_pad(X, resize, resize) if resize else X, y)\n",
        "    return (\n",
        "        tf.data.Dataset.from_tensor_slices(process(*mnist_train)).batch(\n",
        "            batch_size).shuffle(len(mnist_train[0])).map(resize_fn),\n",
        "        tf.data.Dataset.from_tensor_slices(process(*mnist_test)).batch(\n",
        "            batch_size).map(resize_fn))"
      ],
      "metadata": {
        "id": "8R4uRlNm1pB9"
      },
      "execution_count": 203,
      "outputs": []
    },
    {
      "cell_type": "code",
      "source": [
        "def sgd(params, grads, lr, batch_size):\n",
        "    \"\"\"小批量随机梯度下降\n",
        "    Defined in :numref:`sec_linear_scratch`\"\"\"\n",
        "    for param, grad in zip(params, grads):\n",
        "        param.assign_sub(lr*grad/batch_size)"
      ],
      "metadata": {
        "id": "UVS2rZX5EI1y"
      },
      "execution_count": 204,
      "outputs": []
    },
    {
      "cell_type": "code",
      "source": [
        "class Updater():\n",
        "    \"\"\"用小批量随机梯度下降法更新参数\n",
        "    Defined in :numref:`sec_softmax_scratch`\"\"\"\n",
        "    def __init__(self, params, lr):\n",
        "        self.params = params\n",
        "        self.lr = lr\n",
        "\n",
        "    def __call__(self, batch_size, grads):\n",
        "        sgd(self.params, grads, self.lr, batch_size)"
      ],
      "metadata": {
        "id": "UmimRsFYDmcn"
      },
      "execution_count": 205,
      "outputs": []
    },
    {
      "cell_type": "code",
      "source": [
        "def use_svg_display():\n",
        "    \"\"\"使用svg格式在Jupyter中显示绘图\n",
        "    Defined in :numref:`sec_calculus`\"\"\"\n",
        "    backend_inline.set_matplotlib_formats('svg')"
      ],
      "metadata": {
        "id": "GVtDkRESEQ5m"
      },
      "execution_count": 206,
      "outputs": []
    },
    {
      "cell_type": "code",
      "source": [
        "def set_axes(axes, xlabel, ylabel, xlim, ylim, xscale, yscale, legend):\n",
        "    \"\"\"设置matplotlib的轴\n",
        "    Defined in :numref:`sec_calculus`\"\"\"\n",
        "    axes.set_xlabel(xlabel)\n",
        "    axes.set_ylabel(ylabel)\n",
        "    axes.set_xscale(xscale)\n",
        "    axes.set_yscale(yscale)\n",
        "    axes.set_xlim(xlim)\n",
        "    axes.set_ylim(ylim)\n",
        "    if legend:\n",
        "        axes.legend(legend)\n",
        "    axes.grid()"
      ],
      "metadata": {
        "id": "nIzuVHikHin9"
      },
      "execution_count": 207,
      "outputs": []
    },
    {
      "cell_type": "code",
      "source": [
        "from matplotlib import pyplot as plt\n",
        "import sys\n",
        "model = sys.modules[__name__]\n",
        "class Animator:\n",
        "    \"\"\"在动画中绘制数据\"\"\"\n",
        "    def __init__(self, xlabel=None, ylabel=None, legend=None, xlim=None,\n",
        "                 ylim=None, xscale='linear', yscale='linear',\n",
        "                 fmts=('-', 'm--', 'g-.', 'r:'), nrows=1, ncols=1,\n",
        "                 figsize=(3.5, 2.5)):\n",
        "        \"\"\"Defined in :numref:`sec_softmax_scratch`\"\"\"\n",
        "        # 增量地绘制多条线\n",
        "        if legend is None:\n",
        "            legend = []\n",
        "        use_svg_display()\n",
        "        self.fig, self.axes = model.plt.subplots(nrows, ncols, figsize=figsize)\n",
        "        if nrows * ncols == 1:\n",
        "            self.axes = [self.axes, ]\n",
        "        # 使用lambda函数捕获参数\n",
        "        self.config_axes = lambda: set_axes(\n",
        "            self.axes[0], xlabel, ylabel, xlim, ylim, xscale, yscale, legend)\n",
        "        self.X, self.Y, self.fmts = None, None, fmts\n",
        "\n",
        "    def add(self, x, y):\n",
        "        # 向图表中添加多个数据点\n",
        "        if not hasattr(y, \"__len__\"):\n",
        "            y = [y]\n",
        "        n = len(y)\n",
        "        if not hasattr(x, \"__len__\"):\n",
        "            x = [x] * n\n",
        "        if not self.X:\n",
        "            self.X = [[] for _ in range(n)]\n",
        "        if not self.Y:\n",
        "            self.Y = [[] for _ in range(n)]\n",
        "        for i, (a, b) in enumerate(zip(x, y)):\n",
        "            if a is not None and b is not None:\n",
        "                self.X[i].append(a)\n",
        "                self.Y[i].append(b)\n",
        "        self.axes[0].cla()\n",
        "        for x, y, fmt in zip(self.X, self.Y, self.fmts):\n",
        "            self.axes[0].plot(x, y, fmt)\n",
        "        self.config_axes()\n",
        "        display.display(self.fig)\n",
        "        display.clear_output(wait=True)\n"
      ],
      "metadata": {
        "id": "EQlkMJZwECGo"
      },
      "execution_count": 208,
      "outputs": []
    },
    {
      "cell_type": "code",
      "source": [
        "def train_epoch_ch3(net, train_iter, loss, updater):\n",
        "    \"\"\"训练模型一个迭代周期（定义见第3章）\n",
        "    Defined in :numref:`sec_softmax_scratch`\"\"\"\n",
        "    # 训练损失总和、训练准确度总和、样本数\n",
        "    metric = Accumulator(3)\n",
        "    for X, y in train_iter:\n",
        "        # 计算梯度并更新参数\n",
        "        with tf.GradientTape() as tape:\n",
        "            y_hat = net(X)\n",
        "            # Keras内置的损失接受的是（标签，预测），这不同于用户在本书中的实现。\n",
        "            # 本书的实现接受（预测，标签），例如我们上面实现的“交叉熵”\n",
        "            if isinstance(loss, tf.keras.losses.Loss):\n",
        "                l = loss(y, y_hat)\n",
        "            else:\n",
        "                l = loss(y_hat, y)\n",
        "        if isinstance(updater, tf.keras.optimizers.Optimizer):\n",
        "            params = net.trainable_variables\n",
        "            grads = tape.gradient(l, params)\n",
        "            updater.apply_gradients(zip(grads, params))\n",
        "        else:\n",
        "            updater(X.shape[0], tape.gradient(l, updater.params))\n",
        "        # Keras的loss默认返回一个批量的平均损失\n",
        "        l_sum = l * float(tf.size(y)) if isinstance(\n",
        "            loss, tf.keras.losses.Loss) else tf.reduce_sum(l)\n",
        "        metric.add(l_sum, accuracy(y_hat, y), tf.size(y))\n",
        "    # 返回训练损失和训练精度\n",
        "    return metric[0] / metric[2], metric[1] / metric[2]\n"
      ],
      "metadata": {
        "id": "PCNTsDdiFds8"
      },
      "execution_count": 209,
      "outputs": []
    },
    {
      "cell_type": "code",
      "source": [
        "class Accumulator:\n",
        "    \"\"\"在n个变量上累加\"\"\"\n",
        "    def __init__(self, n):\n",
        "        \"\"\"Defined in :numref:`sec_softmax_scratch`\"\"\"\n",
        "        self.data = [0.0] * n\n",
        "\n",
        "    def add(self, *args):\n",
        "        self.data = [a + float(b) for a, b in zip(self.data, args)]\n",
        "\n",
        "    def reset(self):\n",
        "        self.data = [0.0] * len(self.data)\n",
        "\n",
        "    def __getitem__(self, idx):\n",
        "        return self.data[idx]"
      ],
      "metadata": {
        "id": "FkJrXdotFzkA"
      },
      "execution_count": 210,
      "outputs": []
    },
    {
      "cell_type": "code",
      "source": [
        "\n",
        "def accuracy(y_hat, y):\n",
        "    \"\"\"计算预测正确的数量\n",
        "    Defined in :numref:`sec_softmax_scratch`\"\"\"\n",
        "    if len(y_hat.shape) > 1 and y_hat.shape[1] > 1:\n",
        "        y_hat = model.argmax(y_hat, axis=1)\n",
        "    cmp = model.astype(y_hat, y.dtype) == y\n",
        "    return float(model.reduce_sum(model.astype(cmp, y.dtype)))"
      ],
      "metadata": {
        "id": "OngpyL_4GBjO"
      },
      "execution_count": 211,
      "outputs": []
    },
    {
      "cell_type": "code",
      "source": [
        "def evaluate_accuracy(net, data_iter):\n",
        "    \"\"\"计算在指定数据集上模型的精度\n",
        "    Defined in :numref:`sec_softmax_scratch`\"\"\"\n",
        "    metric = Accumulator(2)  # 正确预测数、预测总数\n",
        "    for X, y in data_iter:\n",
        "        metric.add(accuracy(net(X), y), model.size(y))\n",
        "    return metric[0] / metric[1]\n"
      ],
      "metadata": {
        "id": "symIEW9HFida"
      },
      "execution_count": 212,
      "outputs": []
    },
    {
      "cell_type": "code",
      "source": [
        "def train_ch3(net, train_iter, test_iter, loss, num_epochs, updater):\n",
        "    \"\"\"训练模型（定义见第3章）\n",
        "    Defined in :numref:`sec_softmax_scratch`\"\"\"\n",
        "    animator = Animator(xlabel='epoch', xlim=[1, num_epochs], ylim=[0.3, 0.9],\n",
        "                        legend=['train loss', 'train acc', 'test acc'])\n",
        "    for epoch in range(num_epochs):\n",
        "        train_metrics = train_epoch_ch3(net, train_iter, loss, updater)\n",
        "        test_acc = evaluate_accuracy(net, test_iter)\n",
        "        animator.add(epoch + 1, train_metrics + (test_acc,))\n",
        "    train_loss, train_acc = train_metrics\n",
        "    assert train_loss < 0.5, train_loss\n",
        "    assert train_acc <= 1 and train_acc > 0.7, train_acc\n",
        "    assert test_acc <= 1 and test_acc > 0.7, test_acc"
      ],
      "metadata": {
        "id": "IQzKmUizDx7W"
      },
      "execution_count": 213,
      "outputs": []
    },
    {
      "cell_type": "markdown",
      "source": [
        "## 2. 加载数据集"
      ],
      "metadata": {
        "id": "PCP5srDKNALV"
      }
    },
    {
      "cell_type": "code",
      "source": [
        "batch_size = 256\n",
        "train_iter, test_iter = load_data_fashion_mnist(batch_size)"
      ],
      "metadata": {
        "id": "dLlu9BNotPL-"
      },
      "execution_count": 214,
      "outputs": []
    },
    {
      "cell_type": "markdown",
      "source": [
        "## 3.初始化模型参数 \n",
        "Fashion-MNIst中图像由28*28=78个灰度像素组成，共分为10个类别。 忽略像素之间的空间结构， 我们可以将每个图像视为具有784个输入特征 和10个类的简单分类数据集。 首先，我们将实现一个具有单隐藏层的多层感知机， 它包含256个隐藏单元。 注意，我们可以将这两个变量都视为超参数。 通常，我们选择2的若干次幂作为层的宽度。 因为内存在硬件中的分配和寻址方式，这么做往往可以在计算上更高效。\n",
        "\n",
        "我们用几个张量来表示我们的参数。 注意，对于每一层我们都要记录一个权重矩阵和一个偏置向量。 跟以前一样，我们要为损失关于这些参数的梯度分配内存。"
      ],
      "metadata": {
        "id": "uF5qFuD7NMRH"
      }
    },
    {
      "cell_type": "code",
      "source": [
        "num_inputs, num_outputs, num_hiddens = 784, 10, 256\n",
        "# 初始随机权重\n",
        "W1 = tf.Variable(tf.random.normal(\n",
        "    shape=(num_inputs, num_hiddens), mean=0, stddev=0.01))\n",
        "# 初始偏置为0\n",
        "b1 = tf.Variable(tf.zeros(num_hiddens))\n",
        "W2 = tf.Variable(tf.random.normal(\n",
        "    shape=(num_hiddens, num_outputs), mean=0, stddev=0.01))\n",
        "b2 = tf.Variable(tf.zeros(num_outputs))\n",
        "\n",
        "params = [W1, b1, W2, b2]"
      ],
      "metadata": {
        "id": "nz9jgke-12to"
      },
      "execution_count": 215,
      "outputs": []
    },
    {
      "cell_type": "markdown",
      "source": [
        "## 4.激活函数"
      ],
      "metadata": {
        "id": "ctQUk_WQN9TE"
      }
    },
    {
      "cell_type": "code",
      "source": [
        "def relu(X):\n",
        "    return tf.math.maximum(X, 0)"
      ],
      "metadata": {
        "id": "QE_NKPEo19Xv"
      },
      "execution_count": 216,
      "outputs": []
    },
    {
      "cell_type": "markdown",
      "source": [
        "## 5. 模型\n",
        "因为我们忽略了空间结构， 所以我们使用reshape将每个二维图像转换为一个长度为num_inputs的向量。 只需几行代码就可以实现我们的模型。"
      ],
      "metadata": {
        "id": "PokK4dOGOakQ"
      }
    },
    {
      "cell_type": "code",
      "source": [
        "def net(X):\n",
        "    X = tf.reshape(X, (-1, num_inputs))\n",
        "    H = relu(tf.matmul(X, W1) + b1)\n",
        "    return tf.matmul(H, W2) + b2"
      ],
      "metadata": {
        "id": "0VJeh7l6MULT"
      },
      "execution_count": 217,
      "outputs": []
    },
    {
      "cell_type": "markdown",
      "source": [
        "## 6. 损失函数"
      ],
      "metadata": {
        "id": "fKpGCkWzOwo5"
      }
    },
    {
      "cell_type": "code",
      "source": [
        "def loss(y_hat, y):\n",
        "    return tf.losses.sparse_categorical_crossentropy(\n",
        "        y, y_hat, from_logits=True)"
      ],
      "metadata": {
        "id": "lX_n2hFS2Oxd"
      },
      "execution_count": 218,
      "outputs": []
    },
    {
      "cell_type": "markdown",
      "source": [
        "## 7. 训练阶段\n",
        "迭代周期数设置为10，并将学习率设置为0.1.\n",
        "\n"
      ],
      "metadata": {
        "id": "b-AIS9tQO6Td"
      }
    },
    {
      "cell_type": "code",
      "source": [
        "num_epochs, lr = 10, 0.1\n",
        "updater = Updater([W1, W2, b1, b2], lr)\n",
        "train_ch3(net, train_iter, test_iter, loss, num_epochs, updater)"
      ],
      "metadata": {
        "colab": {
          "base_uri": "https://localhost:8080/",
          "height": 261
        },
        "id": "T9LNyjJ1DayP",
        "outputId": "58094f76-2982-4a52-e841-98a5c515693a"
      },
      "execution_count": 219,
      "outputs": [
        {
          "output_type": "display_data",
          "data": {
            "text/plain": [
              "<Figure size 252x180 with 1 Axes>"
            ],
            "image/svg+xml": "<?xml version=\"1.0\" encoding=\"utf-8\" standalone=\"no\"?>\n<!DOCTYPE svg PUBLIC \"-//W3C//DTD SVG 1.1//EN\"\n  \"http://www.w3.org/Graphics/SVG/1.1/DTD/svg11.dtd\">\n<!-- Created with matplotlib (https://matplotlib.org/) -->\n<svg height=\"180.65625pt\" version=\"1.1\" viewBox=\"0 0 238.965625 180.65625\" width=\"238.965625pt\" xmlns=\"http://www.w3.org/2000/svg\" xmlns:xlink=\"http://www.w3.org/1999/xlink\">\n <defs>\n  <style type=\"text/css\">\n*{stroke-linecap:butt;stroke-linejoin:round;}\n  </style>\n </defs>\n <g id=\"figure_1\">\n  <g id=\"patch_1\">\n   <path d=\"M 0 180.65625 \nL 238.965625 180.65625 \nL 238.965625 0 \nL 0 0 \nz\n\" style=\"fill:none;\"/>\n  </g>\n  <g id=\"axes_1\">\n   <g id=\"patch_2\">\n    <path d=\"M 30.103125 143.1 \nL 225.403125 143.1 \nL 225.403125 7.2 \nL 30.103125 7.2 \nz\n\" style=\"fill:#ffffff;\"/>\n   </g>\n   <g id=\"matplotlib.axis_1\">\n    <g id=\"xtick_1\">\n     <g id=\"line2d_1\">\n      <path clip-path=\"url(#pbfb753416a)\" d=\"M 51.803125 143.1 \nL 51.803125 7.2 \n\" style=\"fill:none;stroke:#b0b0b0;stroke-linecap:square;stroke-width:0.8;\"/>\n     </g>\n     <g id=\"line2d_2\">\n      <defs>\n       <path d=\"M 0 0 \nL 0 3.5 \n\" id=\"mdc354f0684\" style=\"stroke:#000000;stroke-width:0.8;\"/>\n      </defs>\n      <g>\n       <use style=\"stroke:#000000;stroke-width:0.8;\" x=\"51.803125\" xlink:href=\"#mdc354f0684\" y=\"143.1\"/>\n      </g>\n     </g>\n     <g id=\"text_1\">\n      <!-- 2 -->\n      <defs>\n       <path d=\"M 19.1875 8.296875 \nL 53.609375 8.296875 \nL 53.609375 0 \nL 7.328125 0 \nL 7.328125 8.296875 \nQ 12.9375 14.109375 22.625 23.890625 \nQ 32.328125 33.6875 34.8125 36.53125 \nQ 39.546875 41.84375 41.421875 45.53125 \nQ 43.3125 49.21875 43.3125 52.78125 \nQ 43.3125 58.59375 39.234375 62.25 \nQ 35.15625 65.921875 28.609375 65.921875 \nQ 23.96875 65.921875 18.8125 64.3125 \nQ 13.671875 62.703125 7.8125 59.421875 \nL 7.8125 69.390625 \nQ 13.765625 71.78125 18.9375 73 \nQ 24.125 74.21875 28.421875 74.21875 \nQ 39.75 74.21875 46.484375 68.546875 \nQ 53.21875 62.890625 53.21875 53.421875 \nQ 53.21875 48.921875 51.53125 44.890625 \nQ 49.859375 40.875 45.40625 35.40625 \nQ 44.1875 33.984375 37.640625 27.21875 \nQ 31.109375 20.453125 19.1875 8.296875 \nz\n\" id=\"DejaVuSans-50\"/>\n      </defs>\n      <g transform=\"translate(48.621875 157.698438)scale(0.1 -0.1)\">\n       <use xlink:href=\"#DejaVuSans-50\"/>\n      </g>\n     </g>\n    </g>\n    <g id=\"xtick_2\">\n     <g id=\"line2d_3\">\n      <path clip-path=\"url(#pbfb753416a)\" d=\"M 95.203125 143.1 \nL 95.203125 7.2 \n\" style=\"fill:none;stroke:#b0b0b0;stroke-linecap:square;stroke-width:0.8;\"/>\n     </g>\n     <g id=\"line2d_4\">\n      <g>\n       <use style=\"stroke:#000000;stroke-width:0.8;\" x=\"95.203125\" xlink:href=\"#mdc354f0684\" y=\"143.1\"/>\n      </g>\n     </g>\n     <g id=\"text_2\">\n      <!-- 4 -->\n      <defs>\n       <path d=\"M 37.796875 64.3125 \nL 12.890625 25.390625 \nL 37.796875 25.390625 \nz\nM 35.203125 72.90625 \nL 47.609375 72.90625 \nL 47.609375 25.390625 \nL 58.015625 25.390625 \nL 58.015625 17.1875 \nL 47.609375 17.1875 \nL 47.609375 0 \nL 37.796875 0 \nL 37.796875 17.1875 \nL 4.890625 17.1875 \nL 4.890625 26.703125 \nz\n\" id=\"DejaVuSans-52\"/>\n      </defs>\n      <g transform=\"translate(92.021875 157.698438)scale(0.1 -0.1)\">\n       <use xlink:href=\"#DejaVuSans-52\"/>\n      </g>\n     </g>\n    </g>\n    <g id=\"xtick_3\">\n     <g id=\"line2d_5\">\n      <path clip-path=\"url(#pbfb753416a)\" d=\"M 138.603125 143.1 \nL 138.603125 7.2 \n\" style=\"fill:none;stroke:#b0b0b0;stroke-linecap:square;stroke-width:0.8;\"/>\n     </g>\n     <g id=\"line2d_6\">\n      <g>\n       <use style=\"stroke:#000000;stroke-width:0.8;\" x=\"138.603125\" xlink:href=\"#mdc354f0684\" y=\"143.1\"/>\n      </g>\n     </g>\n     <g id=\"text_3\">\n      <!-- 6 -->\n      <defs>\n       <path d=\"M 33.015625 40.375 \nQ 26.375 40.375 22.484375 35.828125 \nQ 18.609375 31.296875 18.609375 23.390625 \nQ 18.609375 15.53125 22.484375 10.953125 \nQ 26.375 6.390625 33.015625 6.390625 \nQ 39.65625 6.390625 43.53125 10.953125 \nQ 47.40625 15.53125 47.40625 23.390625 \nQ 47.40625 31.296875 43.53125 35.828125 \nQ 39.65625 40.375 33.015625 40.375 \nz\nM 52.59375 71.296875 \nL 52.59375 62.3125 \nQ 48.875 64.0625 45.09375 64.984375 \nQ 41.3125 65.921875 37.59375 65.921875 \nQ 27.828125 65.921875 22.671875 59.328125 \nQ 17.53125 52.734375 16.796875 39.40625 \nQ 19.671875 43.65625 24.015625 45.921875 \nQ 28.375 48.1875 33.59375 48.1875 \nQ 44.578125 48.1875 50.953125 41.515625 \nQ 57.328125 34.859375 57.328125 23.390625 \nQ 57.328125 12.15625 50.6875 5.359375 \nQ 44.046875 -1.421875 33.015625 -1.421875 \nQ 20.359375 -1.421875 13.671875 8.265625 \nQ 6.984375 17.96875 6.984375 36.375 \nQ 6.984375 53.65625 15.1875 63.9375 \nQ 23.390625 74.21875 37.203125 74.21875 \nQ 40.921875 74.21875 44.703125 73.484375 \nQ 48.484375 72.75 52.59375 71.296875 \nz\n\" id=\"DejaVuSans-54\"/>\n      </defs>\n      <g transform=\"translate(135.421875 157.698438)scale(0.1 -0.1)\">\n       <use xlink:href=\"#DejaVuSans-54\"/>\n      </g>\n     </g>\n    </g>\n    <g id=\"xtick_4\">\n     <g id=\"line2d_7\">\n      <path clip-path=\"url(#pbfb753416a)\" d=\"M 182.003125 143.1 \nL 182.003125 7.2 \n\" style=\"fill:none;stroke:#b0b0b0;stroke-linecap:square;stroke-width:0.8;\"/>\n     </g>\n     <g id=\"line2d_8\">\n      <g>\n       <use style=\"stroke:#000000;stroke-width:0.8;\" x=\"182.003125\" xlink:href=\"#mdc354f0684\" y=\"143.1\"/>\n      </g>\n     </g>\n     <g id=\"text_4\">\n      <!-- 8 -->\n      <defs>\n       <path d=\"M 31.78125 34.625 \nQ 24.75 34.625 20.71875 30.859375 \nQ 16.703125 27.09375 16.703125 20.515625 \nQ 16.703125 13.921875 20.71875 10.15625 \nQ 24.75 6.390625 31.78125 6.390625 \nQ 38.8125 6.390625 42.859375 10.171875 \nQ 46.921875 13.96875 46.921875 20.515625 \nQ 46.921875 27.09375 42.890625 30.859375 \nQ 38.875 34.625 31.78125 34.625 \nz\nM 21.921875 38.8125 \nQ 15.578125 40.375 12.03125 44.71875 \nQ 8.5 49.078125 8.5 55.328125 \nQ 8.5 64.0625 14.71875 69.140625 \nQ 20.953125 74.21875 31.78125 74.21875 \nQ 42.671875 74.21875 48.875 69.140625 \nQ 55.078125 64.0625 55.078125 55.328125 \nQ 55.078125 49.078125 51.53125 44.71875 \nQ 48 40.375 41.703125 38.8125 \nQ 48.828125 37.15625 52.796875 32.3125 \nQ 56.78125 27.484375 56.78125 20.515625 \nQ 56.78125 9.90625 50.3125 4.234375 \nQ 43.84375 -1.421875 31.78125 -1.421875 \nQ 19.734375 -1.421875 13.25 4.234375 \nQ 6.78125 9.90625 6.78125 20.515625 \nQ 6.78125 27.484375 10.78125 32.3125 \nQ 14.796875 37.15625 21.921875 38.8125 \nz\nM 18.3125 54.390625 \nQ 18.3125 48.734375 21.84375 45.5625 \nQ 25.390625 42.390625 31.78125 42.390625 \nQ 38.140625 42.390625 41.71875 45.5625 \nQ 45.3125 48.734375 45.3125 54.390625 \nQ 45.3125 60.0625 41.71875 63.234375 \nQ 38.140625 66.40625 31.78125 66.40625 \nQ 25.390625 66.40625 21.84375 63.234375 \nQ 18.3125 60.0625 18.3125 54.390625 \nz\n\" id=\"DejaVuSans-56\"/>\n      </defs>\n      <g transform=\"translate(178.821875 157.698438)scale(0.1 -0.1)\">\n       <use xlink:href=\"#DejaVuSans-56\"/>\n      </g>\n     </g>\n    </g>\n    <g id=\"xtick_5\">\n     <g id=\"line2d_9\">\n      <path clip-path=\"url(#pbfb753416a)\" d=\"M 225.403125 143.1 \nL 225.403125 7.2 \n\" style=\"fill:none;stroke:#b0b0b0;stroke-linecap:square;stroke-width:0.8;\"/>\n     </g>\n     <g id=\"line2d_10\">\n      <g>\n       <use style=\"stroke:#000000;stroke-width:0.8;\" x=\"225.403125\" xlink:href=\"#mdc354f0684\" y=\"143.1\"/>\n      </g>\n     </g>\n     <g id=\"text_5\">\n      <!-- 10 -->\n      <defs>\n       <path d=\"M 12.40625 8.296875 \nL 28.515625 8.296875 \nL 28.515625 63.921875 \nL 10.984375 60.40625 \nL 10.984375 69.390625 \nL 28.421875 72.90625 \nL 38.28125 72.90625 \nL 38.28125 8.296875 \nL 54.390625 8.296875 \nL 54.390625 0 \nL 12.40625 0 \nz\n\" id=\"DejaVuSans-49\"/>\n       <path d=\"M 31.78125 66.40625 \nQ 24.171875 66.40625 20.328125 58.90625 \nQ 16.5 51.421875 16.5 36.375 \nQ 16.5 21.390625 20.328125 13.890625 \nQ 24.171875 6.390625 31.78125 6.390625 \nQ 39.453125 6.390625 43.28125 13.890625 \nQ 47.125 21.390625 47.125 36.375 \nQ 47.125 51.421875 43.28125 58.90625 \nQ 39.453125 66.40625 31.78125 66.40625 \nz\nM 31.78125 74.21875 \nQ 44.046875 74.21875 50.515625 64.515625 \nQ 56.984375 54.828125 56.984375 36.375 \nQ 56.984375 17.96875 50.515625 8.265625 \nQ 44.046875 -1.421875 31.78125 -1.421875 \nQ 19.53125 -1.421875 13.0625 8.265625 \nQ 6.59375 17.96875 6.59375 36.375 \nQ 6.59375 54.828125 13.0625 64.515625 \nQ 19.53125 74.21875 31.78125 74.21875 \nz\n\" id=\"DejaVuSans-48\"/>\n      </defs>\n      <g transform=\"translate(219.040625 157.698438)scale(0.1 -0.1)\">\n       <use xlink:href=\"#DejaVuSans-49\"/>\n       <use x=\"63.623047\" xlink:href=\"#DejaVuSans-48\"/>\n      </g>\n     </g>\n    </g>\n    <g id=\"text_6\">\n     <!-- epoch -->\n     <defs>\n      <path d=\"M 56.203125 29.59375 \nL 56.203125 25.203125 \nL 14.890625 25.203125 \nQ 15.484375 15.921875 20.484375 11.0625 \nQ 25.484375 6.203125 34.421875 6.203125 \nQ 39.59375 6.203125 44.453125 7.46875 \nQ 49.3125 8.734375 54.109375 11.28125 \nL 54.109375 2.78125 \nQ 49.265625 0.734375 44.1875 -0.34375 \nQ 39.109375 -1.421875 33.890625 -1.421875 \nQ 20.796875 -1.421875 13.15625 6.1875 \nQ 5.515625 13.8125 5.515625 26.8125 \nQ 5.515625 40.234375 12.765625 48.109375 \nQ 20.015625 56 32.328125 56 \nQ 43.359375 56 49.78125 48.890625 \nQ 56.203125 41.796875 56.203125 29.59375 \nz\nM 47.21875 32.234375 \nQ 47.125 39.59375 43.09375 43.984375 \nQ 39.0625 48.390625 32.421875 48.390625 \nQ 24.90625 48.390625 20.390625 44.140625 \nQ 15.875 39.890625 15.1875 32.171875 \nz\n\" id=\"DejaVuSans-101\"/>\n      <path d=\"M 18.109375 8.203125 \nL 18.109375 -20.796875 \nL 9.078125 -20.796875 \nL 9.078125 54.6875 \nL 18.109375 54.6875 \nL 18.109375 46.390625 \nQ 20.953125 51.265625 25.265625 53.625 \nQ 29.59375 56 35.59375 56 \nQ 45.5625 56 51.78125 48.09375 \nQ 58.015625 40.1875 58.015625 27.296875 \nQ 58.015625 14.40625 51.78125 6.484375 \nQ 45.5625 -1.421875 35.59375 -1.421875 \nQ 29.59375 -1.421875 25.265625 0.953125 \nQ 20.953125 3.328125 18.109375 8.203125 \nz\nM 48.6875 27.296875 \nQ 48.6875 37.203125 44.609375 42.84375 \nQ 40.53125 48.484375 33.40625 48.484375 \nQ 26.265625 48.484375 22.1875 42.84375 \nQ 18.109375 37.203125 18.109375 27.296875 \nQ 18.109375 17.390625 22.1875 11.75 \nQ 26.265625 6.109375 33.40625 6.109375 \nQ 40.53125 6.109375 44.609375 11.75 \nQ 48.6875 17.390625 48.6875 27.296875 \nz\n\" id=\"DejaVuSans-112\"/>\n      <path d=\"M 30.609375 48.390625 \nQ 23.390625 48.390625 19.1875 42.75 \nQ 14.984375 37.109375 14.984375 27.296875 \nQ 14.984375 17.484375 19.15625 11.84375 \nQ 23.34375 6.203125 30.609375 6.203125 \nQ 37.796875 6.203125 41.984375 11.859375 \nQ 46.1875 17.53125 46.1875 27.296875 \nQ 46.1875 37.015625 41.984375 42.703125 \nQ 37.796875 48.390625 30.609375 48.390625 \nz\nM 30.609375 56 \nQ 42.328125 56 49.015625 48.375 \nQ 55.71875 40.765625 55.71875 27.296875 \nQ 55.71875 13.875 49.015625 6.21875 \nQ 42.328125 -1.421875 30.609375 -1.421875 \nQ 18.84375 -1.421875 12.171875 6.21875 \nQ 5.515625 13.875 5.515625 27.296875 \nQ 5.515625 40.765625 12.171875 48.375 \nQ 18.84375 56 30.609375 56 \nz\n\" id=\"DejaVuSans-111\"/>\n      <path d=\"M 48.78125 52.59375 \nL 48.78125 44.1875 \nQ 44.96875 46.296875 41.140625 47.34375 \nQ 37.3125 48.390625 33.40625 48.390625 \nQ 24.65625 48.390625 19.8125 42.84375 \nQ 14.984375 37.3125 14.984375 27.296875 \nQ 14.984375 17.28125 19.8125 11.734375 \nQ 24.65625 6.203125 33.40625 6.203125 \nQ 37.3125 6.203125 41.140625 7.25 \nQ 44.96875 8.296875 48.78125 10.40625 \nL 48.78125 2.09375 \nQ 45.015625 0.34375 40.984375 -0.53125 \nQ 36.96875 -1.421875 32.421875 -1.421875 \nQ 20.0625 -1.421875 12.78125 6.34375 \nQ 5.515625 14.109375 5.515625 27.296875 \nQ 5.515625 40.671875 12.859375 48.328125 \nQ 20.21875 56 33.015625 56 \nQ 37.15625 56 41.109375 55.140625 \nQ 45.0625 54.296875 48.78125 52.59375 \nz\n\" id=\"DejaVuSans-99\"/>\n      <path d=\"M 54.890625 33.015625 \nL 54.890625 0 \nL 45.90625 0 \nL 45.90625 32.71875 \nQ 45.90625 40.484375 42.875 44.328125 \nQ 39.84375 48.1875 33.796875 48.1875 \nQ 26.515625 48.1875 22.3125 43.546875 \nQ 18.109375 38.921875 18.109375 30.90625 \nL 18.109375 0 \nL 9.078125 0 \nL 9.078125 75.984375 \nL 18.109375 75.984375 \nL 18.109375 46.1875 \nQ 21.34375 51.125 25.703125 53.5625 \nQ 30.078125 56 35.796875 56 \nQ 45.21875 56 50.046875 50.171875 \nQ 54.890625 44.34375 54.890625 33.015625 \nz\n\" id=\"DejaVuSans-104\"/>\n     </defs>\n     <g transform=\"translate(112.525 171.376563)scale(0.1 -0.1)\">\n      <use xlink:href=\"#DejaVuSans-101\"/>\n      <use x=\"61.523438\" xlink:href=\"#DejaVuSans-112\"/>\n      <use x=\"125\" xlink:href=\"#DejaVuSans-111\"/>\n      <use x=\"186.181641\" xlink:href=\"#DejaVuSans-99\"/>\n      <use x=\"241.162109\" xlink:href=\"#DejaVuSans-104\"/>\n     </g>\n    </g>\n   </g>\n   <g id=\"matplotlib.axis_2\">\n    <g id=\"ytick_1\">\n     <g id=\"line2d_11\">\n      <path clip-path=\"url(#pbfb753416a)\" d=\"M 30.103125 120.45 \nL 225.403125 120.45 \n\" style=\"fill:none;stroke:#b0b0b0;stroke-linecap:square;stroke-width:0.8;\"/>\n     </g>\n     <g id=\"line2d_12\">\n      <defs>\n       <path d=\"M 0 0 \nL -3.5 0 \n\" id=\"m37e1276abd\" style=\"stroke:#000000;stroke-width:0.8;\"/>\n      </defs>\n      <g>\n       <use style=\"stroke:#000000;stroke-width:0.8;\" x=\"30.103125\" xlink:href=\"#m37e1276abd\" y=\"120.45\"/>\n      </g>\n     </g>\n     <g id=\"text_7\">\n      <!-- 0.4 -->\n      <defs>\n       <path d=\"M 10.6875 12.40625 \nL 21 12.40625 \nL 21 0 \nL 10.6875 0 \nz\n\" id=\"DejaVuSans-46\"/>\n      </defs>\n      <g transform=\"translate(7.2 124.249219)scale(0.1 -0.1)\">\n       <use xlink:href=\"#DejaVuSans-48\"/>\n       <use x=\"63.623047\" xlink:href=\"#DejaVuSans-46\"/>\n       <use x=\"95.410156\" xlink:href=\"#DejaVuSans-52\"/>\n      </g>\n     </g>\n    </g>\n    <g id=\"ytick_2\">\n     <g id=\"line2d_13\">\n      <path clip-path=\"url(#pbfb753416a)\" d=\"M 30.103125 75.15 \nL 225.403125 75.15 \n\" style=\"fill:none;stroke:#b0b0b0;stroke-linecap:square;stroke-width:0.8;\"/>\n     </g>\n     <g id=\"line2d_14\">\n      <g>\n       <use style=\"stroke:#000000;stroke-width:0.8;\" x=\"30.103125\" xlink:href=\"#m37e1276abd\" y=\"75.15\"/>\n      </g>\n     </g>\n     <g id=\"text_8\">\n      <!-- 0.6 -->\n      <g transform=\"translate(7.2 78.949219)scale(0.1 -0.1)\">\n       <use xlink:href=\"#DejaVuSans-48\"/>\n       <use x=\"63.623047\" xlink:href=\"#DejaVuSans-46\"/>\n       <use x=\"95.410156\" xlink:href=\"#DejaVuSans-54\"/>\n      </g>\n     </g>\n    </g>\n    <g id=\"ytick_3\">\n     <g id=\"line2d_15\">\n      <path clip-path=\"url(#pbfb753416a)\" d=\"M 30.103125 29.85 \nL 225.403125 29.85 \n\" style=\"fill:none;stroke:#b0b0b0;stroke-linecap:square;stroke-width:0.8;\"/>\n     </g>\n     <g id=\"line2d_16\">\n      <g>\n       <use style=\"stroke:#000000;stroke-width:0.8;\" x=\"30.103125\" xlink:href=\"#m37e1276abd\" y=\"29.85\"/>\n      </g>\n     </g>\n     <g id=\"text_9\">\n      <!-- 0.8 -->\n      <g transform=\"translate(7.2 33.649219)scale(0.1 -0.1)\">\n       <use xlink:href=\"#DejaVuSans-48\"/>\n       <use x=\"63.623047\" xlink:href=\"#DejaVuSans-46\"/>\n       <use x=\"95.410156\" xlink:href=\"#DejaVuSans-56\"/>\n      </g>\n     </g>\n    </g>\n   </g>\n   <g id=\"line2d_17\">\n    <path clip-path=\"url(#pbfb753416a)\" d=\"M 35.189864 -1 \nL 51.803125 74.822392 \nL 73.503125 93.556114 \nL 95.203125 102.396998 \nL 116.903125 107.949857 \nL 138.603125 112.255263 \nL 160.303125 116.126317 \nL 182.003125 119.487418 \nL 203.703125 121.914555 \nL 225.403125 124.276283 \n\" style=\"fill:none;stroke:#1f77b4;stroke-linecap:square;stroke-width:1.5;\"/>\n   </g>\n   <g id=\"line2d_18\">\n    <path clip-path=\"url(#pbfb753416a)\" d=\"M 30.103125 65.61435 \nL 51.803125 32.56045 \nL 73.503125 25.73525 \nL 95.203125 22.651075 \nL 116.903125 20.718275 \nL 138.603125 19.095025 \nL 160.303125 17.826625 \nL 182.003125 16.53935 \nL 203.703125 15.840975 \nL 225.403125 15.161475 \n\" style=\"fill:none;stroke:#bf00bf;stroke-dasharray:5.55,2.4;stroke-dashoffset:0;stroke-width:1.5;\"/>\n   </g>\n   <g id=\"line2d_19\">\n    <path clip-path=\"url(#pbfb753416a)\" d=\"M 30.103125 42.87375 \nL 51.803125 30.09915 \nL 73.503125 24.9123 \nL 95.203125 26.97345 \nL 116.903125 23.98365 \nL 138.603125 23.07765 \nL 160.303125 18.91005 \nL 182.003125 19.49895 \nL 203.703125 19.5669 \nL 225.403125 19.2951 \n\" style=\"fill:none;stroke:#008000;stroke-dasharray:9.6,2.4,1.5,2.4;stroke-dashoffset:0;stroke-width:1.5;\"/>\n   </g>\n   <g id=\"patch_3\">\n    <path d=\"M 30.103125 143.1 \nL 30.103125 7.2 \n\" style=\"fill:none;stroke:#000000;stroke-linecap:square;stroke-linejoin:miter;stroke-width:0.8;\"/>\n   </g>\n   <g id=\"patch_4\">\n    <path d=\"M 225.403125 143.1 \nL 225.403125 7.2 \n\" style=\"fill:none;stroke:#000000;stroke-linecap:square;stroke-linejoin:miter;stroke-width:0.8;\"/>\n   </g>\n   <g id=\"patch_5\">\n    <path d=\"M 30.103125 143.1 \nL 225.403125 143.1 \n\" style=\"fill:none;stroke:#000000;stroke-linecap:square;stroke-linejoin:miter;stroke-width:0.8;\"/>\n   </g>\n   <g id=\"patch_6\">\n    <path d=\"M 30.103125 7.2 \nL 225.403125 7.2 \n\" style=\"fill:none;stroke:#000000;stroke-linecap:square;stroke-linejoin:miter;stroke-width:0.8;\"/>\n   </g>\n   <g id=\"legend_1\">\n    <g id=\"patch_7\">\n     <path d=\"M 140.634375 98.667187 \nL 218.403125 98.667187 \nQ 220.403125 98.667187 220.403125 96.667187 \nL 220.403125 53.632812 \nQ 220.403125 51.632812 218.403125 51.632812 \nL 140.634375 51.632812 \nQ 138.634375 51.632812 138.634375 53.632812 \nL 138.634375 96.667187 \nQ 138.634375 98.667187 140.634375 98.667187 \nz\n\" style=\"fill:#ffffff;opacity:0.8;stroke:#cccccc;stroke-linejoin:miter;\"/>\n    </g>\n    <g id=\"line2d_20\">\n     <path d=\"M 142.634375 59.73125 \nL 162.634375 59.73125 \n\" style=\"fill:none;stroke:#1f77b4;stroke-linecap:square;stroke-width:1.5;\"/>\n    </g>\n    <g id=\"line2d_21\"/>\n    <g id=\"text_10\">\n     <!-- train loss -->\n     <defs>\n      <path d=\"M 18.3125 70.21875 \nL 18.3125 54.6875 \nL 36.8125 54.6875 \nL 36.8125 47.703125 \nL 18.3125 47.703125 \nL 18.3125 18.015625 \nQ 18.3125 11.328125 20.140625 9.421875 \nQ 21.96875 7.515625 27.59375 7.515625 \nL 36.8125 7.515625 \nL 36.8125 0 \nL 27.59375 0 \nQ 17.1875 0 13.234375 3.875 \nQ 9.28125 7.765625 9.28125 18.015625 \nL 9.28125 47.703125 \nL 2.6875 47.703125 \nL 2.6875 54.6875 \nL 9.28125 54.6875 \nL 9.28125 70.21875 \nz\n\" id=\"DejaVuSans-116\"/>\n      <path d=\"M 41.109375 46.296875 \nQ 39.59375 47.171875 37.8125 47.578125 \nQ 36.03125 48 33.890625 48 \nQ 26.265625 48 22.1875 43.046875 \nQ 18.109375 38.09375 18.109375 28.8125 \nL 18.109375 0 \nL 9.078125 0 \nL 9.078125 54.6875 \nL 18.109375 54.6875 \nL 18.109375 46.1875 \nQ 20.953125 51.171875 25.484375 53.578125 \nQ 30.03125 56 36.53125 56 \nQ 37.453125 56 38.578125 55.875 \nQ 39.703125 55.765625 41.0625 55.515625 \nz\n\" id=\"DejaVuSans-114\"/>\n      <path d=\"M 34.28125 27.484375 \nQ 23.390625 27.484375 19.1875 25 \nQ 14.984375 22.515625 14.984375 16.5 \nQ 14.984375 11.71875 18.140625 8.90625 \nQ 21.296875 6.109375 26.703125 6.109375 \nQ 34.1875 6.109375 38.703125 11.40625 \nQ 43.21875 16.703125 43.21875 25.484375 \nL 43.21875 27.484375 \nz\nM 52.203125 31.203125 \nL 52.203125 0 \nL 43.21875 0 \nL 43.21875 8.296875 \nQ 40.140625 3.328125 35.546875 0.953125 \nQ 30.953125 -1.421875 24.3125 -1.421875 \nQ 15.921875 -1.421875 10.953125 3.296875 \nQ 6 8.015625 6 15.921875 \nQ 6 25.140625 12.171875 29.828125 \nQ 18.359375 34.515625 30.609375 34.515625 \nL 43.21875 34.515625 \nL 43.21875 35.40625 \nQ 43.21875 41.609375 39.140625 45 \nQ 35.0625 48.390625 27.6875 48.390625 \nQ 23 48.390625 18.546875 47.265625 \nQ 14.109375 46.140625 10.015625 43.890625 \nL 10.015625 52.203125 \nQ 14.9375 54.109375 19.578125 55.046875 \nQ 24.21875 56 28.609375 56 \nQ 40.484375 56 46.34375 49.84375 \nQ 52.203125 43.703125 52.203125 31.203125 \nz\n\" id=\"DejaVuSans-97\"/>\n      <path d=\"M 9.421875 54.6875 \nL 18.40625 54.6875 \nL 18.40625 0 \nL 9.421875 0 \nz\nM 9.421875 75.984375 \nL 18.40625 75.984375 \nL 18.40625 64.59375 \nL 9.421875 64.59375 \nz\n\" id=\"DejaVuSans-105\"/>\n      <path d=\"M 54.890625 33.015625 \nL 54.890625 0 \nL 45.90625 0 \nL 45.90625 32.71875 \nQ 45.90625 40.484375 42.875 44.328125 \nQ 39.84375 48.1875 33.796875 48.1875 \nQ 26.515625 48.1875 22.3125 43.546875 \nQ 18.109375 38.921875 18.109375 30.90625 \nL 18.109375 0 \nL 9.078125 0 \nL 9.078125 54.6875 \nL 18.109375 54.6875 \nL 18.109375 46.1875 \nQ 21.34375 51.125 25.703125 53.5625 \nQ 30.078125 56 35.796875 56 \nQ 45.21875 56 50.046875 50.171875 \nQ 54.890625 44.34375 54.890625 33.015625 \nz\n\" id=\"DejaVuSans-110\"/>\n      <path id=\"DejaVuSans-32\"/>\n      <path d=\"M 9.421875 75.984375 \nL 18.40625 75.984375 \nL 18.40625 0 \nL 9.421875 0 \nz\n\" id=\"DejaVuSans-108\"/>\n      <path d=\"M 44.28125 53.078125 \nL 44.28125 44.578125 \nQ 40.484375 46.53125 36.375 47.5 \nQ 32.28125 48.484375 27.875 48.484375 \nQ 21.1875 48.484375 17.84375 46.4375 \nQ 14.5 44.390625 14.5 40.28125 \nQ 14.5 37.15625 16.890625 35.375 \nQ 19.28125 33.59375 26.515625 31.984375 \nL 29.59375 31.296875 \nQ 39.15625 29.25 43.1875 25.515625 \nQ 47.21875 21.78125 47.21875 15.09375 \nQ 47.21875 7.46875 41.1875 3.015625 \nQ 35.15625 -1.421875 24.609375 -1.421875 \nQ 20.21875 -1.421875 15.453125 -0.5625 \nQ 10.6875 0.296875 5.421875 2 \nL 5.421875 11.28125 \nQ 10.40625 8.6875 15.234375 7.390625 \nQ 20.0625 6.109375 24.8125 6.109375 \nQ 31.15625 6.109375 34.5625 8.28125 \nQ 37.984375 10.453125 37.984375 14.40625 \nQ 37.984375 18.0625 35.515625 20.015625 \nQ 33.0625 21.96875 24.703125 23.78125 \nL 21.578125 24.515625 \nQ 13.234375 26.265625 9.515625 29.90625 \nQ 5.8125 33.546875 5.8125 39.890625 \nQ 5.8125 47.609375 11.28125 51.796875 \nQ 16.75 56 26.8125 56 \nQ 31.78125 56 36.171875 55.265625 \nQ 40.578125 54.546875 44.28125 53.078125 \nz\n\" id=\"DejaVuSans-115\"/>\n     </defs>\n     <g transform=\"translate(170.634375 63.23125)scale(0.1 -0.1)\">\n      <use xlink:href=\"#DejaVuSans-116\"/>\n      <use x=\"39.208984\" xlink:href=\"#DejaVuSans-114\"/>\n      <use x=\"80.322266\" xlink:href=\"#DejaVuSans-97\"/>\n      <use x=\"141.601562\" xlink:href=\"#DejaVuSans-105\"/>\n      <use x=\"169.384766\" xlink:href=\"#DejaVuSans-110\"/>\n      <use x=\"232.763672\" xlink:href=\"#DejaVuSans-32\"/>\n      <use x=\"264.550781\" xlink:href=\"#DejaVuSans-108\"/>\n      <use x=\"292.333984\" xlink:href=\"#DejaVuSans-111\"/>\n      <use x=\"353.515625\" xlink:href=\"#DejaVuSans-115\"/>\n      <use x=\"405.615234\" xlink:href=\"#DejaVuSans-115\"/>\n     </g>\n    </g>\n    <g id=\"line2d_22\">\n     <path d=\"M 142.634375 74.409375 \nL 162.634375 74.409375 \n\" style=\"fill:none;stroke:#bf00bf;stroke-dasharray:5.55,2.4;stroke-dashoffset:0;stroke-width:1.5;\"/>\n    </g>\n    <g id=\"line2d_23\"/>\n    <g id=\"text_11\">\n     <!-- train acc -->\n     <g transform=\"translate(170.634375 77.909375)scale(0.1 -0.1)\">\n      <use xlink:href=\"#DejaVuSans-116\"/>\n      <use x=\"39.208984\" xlink:href=\"#DejaVuSans-114\"/>\n      <use x=\"80.322266\" xlink:href=\"#DejaVuSans-97\"/>\n      <use x=\"141.601562\" xlink:href=\"#DejaVuSans-105\"/>\n      <use x=\"169.384766\" xlink:href=\"#DejaVuSans-110\"/>\n      <use x=\"232.763672\" xlink:href=\"#DejaVuSans-32\"/>\n      <use x=\"264.550781\" xlink:href=\"#DejaVuSans-97\"/>\n      <use x=\"325.830078\" xlink:href=\"#DejaVuSans-99\"/>\n      <use x=\"380.810547\" xlink:href=\"#DejaVuSans-99\"/>\n     </g>\n    </g>\n    <g id=\"line2d_24\">\n     <path d=\"M 142.634375 89.0875 \nL 162.634375 89.0875 \n\" style=\"fill:none;stroke:#008000;stroke-dasharray:9.6,2.4,1.5,2.4;stroke-dashoffset:0;stroke-width:1.5;\"/>\n    </g>\n    <g id=\"line2d_25\"/>\n    <g id=\"text_12\">\n     <!-- test acc -->\n     <g transform=\"translate(170.634375 92.5875)scale(0.1 -0.1)\">\n      <use xlink:href=\"#DejaVuSans-116\"/>\n      <use x=\"39.208984\" xlink:href=\"#DejaVuSans-101\"/>\n      <use x=\"100.732422\" xlink:href=\"#DejaVuSans-115\"/>\n      <use x=\"152.832031\" xlink:href=\"#DejaVuSans-116\"/>\n      <use x=\"192.041016\" xlink:href=\"#DejaVuSans-32\"/>\n      <use x=\"223.828125\" xlink:href=\"#DejaVuSans-97\"/>\n      <use x=\"285.107422\" xlink:href=\"#DejaVuSans-99\"/>\n      <use x=\"340.087891\" xlink:href=\"#DejaVuSans-99\"/>\n     </g>\n    </g>\n   </g>\n  </g>\n </g>\n <defs>\n  <clipPath id=\"pbfb753416a\">\n   <rect height=\"135.9\" width=\"195.3\" x=\"30.103125\" y=\"7.2\"/>\n  </clipPath>\n </defs>\n</svg>\n"
          },
          "metadata": {
            "needs_background": "light"
          }
        }
      ]
    },
    {
      "cell_type": "markdown",
      "source": [
        "## 8.预测"
      ],
      "metadata": {
        "id": "cQBDdrzsPOV4"
      }
    },
    {
      "cell_type": "code",
      "source": [
        "def show_images(imgs, num_rows, num_cols, titles=None, scale=3):\n",
        "    \"\"\"绘制图像列表\n",
        "    Defined in :numref:`sec_fashion_mnist`\"\"\"\n",
        "    figsize = (num_cols * scale, num_rows * scale)\n",
        "    _, axes = model.plt.subplots(num_rows, num_cols, figsize=figsize)\n",
        "    axes = axes.flatten()\n",
        "    for i, (ax, img) in enumerate(zip(axes, imgs)):\n",
        "        ax.imshow(model.numpy(img))\n",
        "        ax.axes.get_xaxis().set_visible(False)\n",
        "        ax.axes.get_yaxis().set_visible(False)\n",
        "        if titles:\n",
        "            ax.set_title(titles[i])\n",
        "    return "
      ],
      "metadata": {
        "id": "4RgvYzRSPkXZ"
      },
      "execution_count": 223,
      "outputs": []
    },
    {
      "cell_type": "code",
      "source": [
        "def predict_ch3(net, test_iter, n=6):\n",
        "    \"\"\"预测标签（定义见第3章）\n",
        "    Defined in :numref:`sec_softmax_scratch`\"\"\"\n",
        "    for X, y in test_iter:\n",
        "        break\n",
        "    trues = get_fashion_mnist_labels(y)\n",
        "    preds = get_fashion_mnist_labels(model.argmax(net(X), axis=1))\n",
        "    titles = [true +'\\n' + pred for true, pred in zip(trues, preds)]\n",
        "    model.show_images(\n",
        "        model.reshape(X[0:n], (n, 28, 28)), 1, n, titles=titles[0:n])"
      ],
      "metadata": {
        "id": "QJTVq4SsPWZc"
      },
      "execution_count": 224,
      "outputs": []
    },
    {
      "cell_type": "code",
      "source": [
        "model.predict_ch3(net, test_iter)"
      ],
      "metadata": {
        "colab": {
          "base_uri": "https://localhost:8080/",
          "height": 273
        },
        "id": "TjcanEtCPFgv",
        "outputId": "c670bd10-baaa-4d64-da42-97b62daad05a"
      },
      "execution_count": 225,
      "outputs": [
        {
          "output_type": "display_data",
          "data": {
            "text/plain": [
              "<Figure size 1296x216 with 6 Axes>"
            ],
            "image/svg+xml": "<?xml version=\"1.0\" encoding=\"utf-8\" standalone=\"no\"?>\n<!DOCTYPE svg PUBLIC \"-//W3C//DTD SVG 1.1//EN\"\n  \"http://www.w3.org/Graphics/SVG/1.1/DTD/svg11.dtd\">\n<!-- Created with matplotlib (https://matplotlib.org/) -->\n<svg height=\"189.941214pt\" version=\"1.1\" viewBox=\"0 0 1022.3 189.941214\" width=\"1022.3pt\" xmlns=\"http://www.w3.org/2000/svg\" xmlns:xlink=\"http://www.w3.org/1999/xlink\">\n <defs>\n  <style type=\"text/css\">\n*{stroke-linecap:butt;stroke-linejoin:round;}\n  </style>\n </defs>\n <g id=\"figure_1\">\n  <g id=\"patch_1\">\n   <path d=\"M 0 189.941214 \nL 1022.3 189.941214 \nL 1022.3 -0 \nL 0 -0 \nz\n\" style=\"fill:none;\"/>\n  </g>\n  <g id=\"axes_1\">\n   <g id=\"patch_2\">\n    <path d=\"M 10.7 179.241214 \nL 154.185714 179.241214 \nL 154.185714 35.7555 \nL 10.7 35.7555 \nz\n\" style=\"fill:#ffffff;\"/>\n   </g>\n   <g clip-path=\"url(#p4ce8f02eae)\">\n    <image height=\"144\" id=\"image0f236d1d7b\" transform=\"scale(1 -1)translate(0 -144)\" width=\"144\" x=\"10.7\" xlink:href=\"data:image/png;base64,\niVBORw0KGgoAAAANSUhEUgAAAJAAAACQCAYAAADnRuK4AAAABHNCSVQICAgIfAhkiAAABxlJREFUeJzt3UuPFGUUxvFTfZueK3NngIGBAYbgRhdG1MSFAePGxA0LVrrXBQsTF241ERPZuPATGKPiB1CDcWGCl8QYScRwkYtGYZC5MJfume7qKhduDM/pWPGAaPz/lifVXTU1T1dOvf3W28mR5GhuwN9Uut8HgP82AoQQAoQQAoQQAoQQAoQQAoQQAoQQAoQQAoQQAoQQAoQQAoQQAoQQAoQQAoQQAoQQAoQQAoQQAoQQAoQQAoQQAoQQAoQQAoQQAoQQAoQQAoQQAoQQAoSQSuTF5ZERt75yeE5qS3Nl3fkjS1LbO3pLarv6dbsdPVorm79STccSqbUz/dPPrW2T2heX90ht5LO61CbeOyu1bH3dPZ6isk93Su3JiQtSO7u6Q2o31oektrDe5+4nTfV/027p+Zl78bLUuAIhhAAhhAAhhAAhJHl66gXpPC+8PCsbTjzwm9RmhrSR7WYjrUptvjEgtVtLg1JLl2tSq65o45dV/SY61x7a8tG21B6a/UlqE/U1qc32aqPfyfWz+Mr4efd43ljYL7VP5g9K7Z25d6U2Wu5x9l1smctGrn+zmdnHjV1Su7SxVWqfH39UalyBEEKAEEKAEEKAEJIcOvamdGDpcwuy4cLFManV5/38lVtac3pMK3nbaW9szkCyOQPJlmmf/sfLM621B53G09lPp+5sN7YppUqtI7WBvg33eA6O3XTrdxqq6usrie7Hc2NDR6Ine/SGwMxssaUj1I1Ub1w2j2sGuAIhhAAhhAAhhAAhpDL4/pdSXMsOSW1gu2atlPpvujGutbyszWjS0a7V284bSU77dbus7nTLZm5zbDXdtrzsdebO2zkfuzzTnSze1EbWzOzMko7Al25q09q7d8V9/Z3WlpxpGi09yMqQc9diZvVerT8xrVM3zm3XEWuuQAghQAghQAghQAhx50QPnPpKasO7tYFqzk26b9q+rsPJrX7NatqrjfDqbn2/jrNdqa1Na23en+LtjYJ7Uz+8UWdvFLuzpvvJ2s5OnBsCM7Pe4abUGkN6zjY3dT81Z8TbUx3WUeyJYX8k+najV2rLLa1lVT3nXIEQQoAQQoAQQoAQQoAQkjxVPSa3Cnna5TuKf0Bl57TUmgd0gvfiQZ1c3pzy73pKLb17KOuUHms7X4+kzryh3LmDy+t6d1Tt8yex9/fpznuqes4Xb/dLLcucr5RKeqvYbjiTo7w7RTMrDehxDg3qneLECT3nXIEQQoAQQoAQQoAQkhxJjhZ7rLHkzXbvIi84iSYrNixfVHmfLsViZnb1mC7b4n09UlvSZjvVPtaymr62Nap/S23Un1TfvqVfE1S6bHunpKT7rlR0341FnSOUdPkapFrXBn7XuD51XDr8s9bcdwQKIkAIIUAIIUAIKb5GYrThzZ3XO415UtZanjojus6SJp1LV9xd73xN69dfelxqq/u0maxf11NU3tBm29uuMuWP6LcSPfZ2U0eOS1U9Zz29ei7qNa01nLlIPV1GxgedJ2ivfa3fCOwxmmjcZQQIIQQIIQQIIaGFxrtKvEUJnQFvpzHPA816Uukyqd6ZnrLt5BmplV/Qxnr5QW08h89qw+stN9No6tOmZmalQX3PfEm3TcacJWN6dSpIteycM2/1Gqd572bmo2Ij41yBEEKAEEKAEEKAEHJvmuiCC18Xbra9qSTOlJFuc7m95trbdvJtbawbrz4mteZWPUZvdDpd8Zvo8ellqS07I8elsjPX2fllnY6ztIwn67LdakN/fWj8O13exbu94QqEEAKEEAKEEAKEkHvTRBdVtNkOTiVxm2uvMXf2s/fkOan9cOKA1JJN54G/pv/5bGzqSPb0hM5Bnr+tv1zkPUQ42qcPAS7XdDJ32vb/3Z1NpzFfvu1uK8dTaCugCwKEEAKEEAKEkPvbRN9PTsOcVHXk2Gsm93yor732jH4Wy5v+yG9zTVe5yAf1N+a9kePcWXX90nl9cLI6otM+tjgrbpiZ3fp1i1svgisQQggQQggQQggQQggQQv6/d2EO9wlYR/X0N1Lbsl/nDS097L9f/Uedf9Pz/FWpzRQ6GrMJp1aZ2Sm1X57VmplZn/76VGFcgRBCgBBCgBBCgBBCE/1XCs4bmjo9ry9NdYF0M7PJU99L7e6uFmmWXtOlWLa+pTUzsyuv6w1AUVyBEEKAEEKAEEKAEEIT/WfeJH9vbUdH56I+yTnm1Mz8htl9erbjLdtScF34Pl1oPGs03G1nP1jR3RTaC1cgBBEghBAghBAghNBE/0vc7Z8Z7dYwu/v+VkfGi+IKhBAChBAChBAChBAChBAChBAChBAChBAChBAChBAChBAChBAChBAChBAChBAChBAChBAChBAChBAChBAChBAChBAChBAChBAChBAChBAChBAChBAChBAChBAChBAChBAChBAChBAChJDfAelWvI5C/VstAAAAAElFTkSuQmCC\" y=\"-35.241214\"/>\n   </g>\n   <g id=\"patch_3\">\n    <path d=\"M 10.7 179.241214 \nL 10.7 35.7555 \n\" style=\"fill:none;stroke:#000000;stroke-linecap:square;stroke-linejoin:miter;stroke-width:0.8;\"/>\n   </g>\n   <g id=\"patch_4\">\n    <path d=\"M 154.185714 179.241214 \nL 154.185714 35.7555 \n\" style=\"fill:none;stroke:#000000;stroke-linecap:square;stroke-linejoin:miter;stroke-width:0.8;\"/>\n   </g>\n   <g id=\"patch_5\">\n    <path d=\"M 10.7 179.241214 \nL 154.185714 179.241214 \n\" style=\"fill:none;stroke:#000000;stroke-linecap:square;stroke-linejoin:miter;stroke-width:0.8;\"/>\n   </g>\n   <g id=\"patch_6\">\n    <path d=\"M 10.7 35.7555 \nL 154.185714 35.7555 \n\" style=\"fill:none;stroke:#000000;stroke-linecap:square;stroke-linejoin:miter;stroke-width:0.8;\"/>\n   </g>\n   <g id=\"text_1\">\n    <!-- ankle boot -->\n    <defs>\n     <path d=\"M 34.28125 27.484375 \nQ 23.390625 27.484375 19.1875 25 \nQ 14.984375 22.515625 14.984375 16.5 \nQ 14.984375 11.71875 18.140625 8.90625 \nQ 21.296875 6.109375 26.703125 6.109375 \nQ 34.1875 6.109375 38.703125 11.40625 \nQ 43.21875 16.703125 43.21875 25.484375 \nL 43.21875 27.484375 \nz\nM 52.203125 31.203125 \nL 52.203125 0 \nL 43.21875 0 \nL 43.21875 8.296875 \nQ 40.140625 3.328125 35.546875 0.953125 \nQ 30.953125 -1.421875 24.3125 -1.421875 \nQ 15.921875 -1.421875 10.953125 3.296875 \nQ 6 8.015625 6 15.921875 \nQ 6 25.140625 12.171875 29.828125 \nQ 18.359375 34.515625 30.609375 34.515625 \nL 43.21875 34.515625 \nL 43.21875 35.40625 \nQ 43.21875 41.609375 39.140625 45 \nQ 35.0625 48.390625 27.6875 48.390625 \nQ 23 48.390625 18.546875 47.265625 \nQ 14.109375 46.140625 10.015625 43.890625 \nL 10.015625 52.203125 \nQ 14.9375 54.109375 19.578125 55.046875 \nQ 24.21875 56 28.609375 56 \nQ 40.484375 56 46.34375 49.84375 \nQ 52.203125 43.703125 52.203125 31.203125 \nz\n\" id=\"DejaVuSans-97\"/>\n     <path d=\"M 54.890625 33.015625 \nL 54.890625 0 \nL 45.90625 0 \nL 45.90625 32.71875 \nQ 45.90625 40.484375 42.875 44.328125 \nQ 39.84375 48.1875 33.796875 48.1875 \nQ 26.515625 48.1875 22.3125 43.546875 \nQ 18.109375 38.921875 18.109375 30.90625 \nL 18.109375 0 \nL 9.078125 0 \nL 9.078125 54.6875 \nL 18.109375 54.6875 \nL 18.109375 46.1875 \nQ 21.34375 51.125 25.703125 53.5625 \nQ 30.078125 56 35.796875 56 \nQ 45.21875 56 50.046875 50.171875 \nQ 54.890625 44.34375 54.890625 33.015625 \nz\n\" id=\"DejaVuSans-110\"/>\n     <path d=\"M 9.078125 75.984375 \nL 18.109375 75.984375 \nL 18.109375 31.109375 \nL 44.921875 54.6875 \nL 56.390625 54.6875 \nL 27.390625 29.109375 \nL 57.625 0 \nL 45.90625 0 \nL 18.109375 26.703125 \nL 18.109375 0 \nL 9.078125 0 \nz\n\" id=\"DejaVuSans-107\"/>\n     <path d=\"M 9.421875 75.984375 \nL 18.40625 75.984375 \nL 18.40625 0 \nL 9.421875 0 \nz\n\" id=\"DejaVuSans-108\"/>\n     <path d=\"M 56.203125 29.59375 \nL 56.203125 25.203125 \nL 14.890625 25.203125 \nQ 15.484375 15.921875 20.484375 11.0625 \nQ 25.484375 6.203125 34.421875 6.203125 \nQ 39.59375 6.203125 44.453125 7.46875 \nQ 49.3125 8.734375 54.109375 11.28125 \nL 54.109375 2.78125 \nQ 49.265625 0.734375 44.1875 -0.34375 \nQ 39.109375 -1.421875 33.890625 -1.421875 \nQ 20.796875 -1.421875 13.15625 6.1875 \nQ 5.515625 13.8125 5.515625 26.8125 \nQ 5.515625 40.234375 12.765625 48.109375 \nQ 20.015625 56 32.328125 56 \nQ 43.359375 56 49.78125 48.890625 \nQ 56.203125 41.796875 56.203125 29.59375 \nz\nM 47.21875 32.234375 \nQ 47.125 39.59375 43.09375 43.984375 \nQ 39.0625 48.390625 32.421875 48.390625 \nQ 24.90625 48.390625 20.390625 44.140625 \nQ 15.875 39.890625 15.1875 32.171875 \nz\n\" id=\"DejaVuSans-101\"/>\n     <path id=\"DejaVuSans-32\"/>\n     <path d=\"M 48.6875 27.296875 \nQ 48.6875 37.203125 44.609375 42.84375 \nQ 40.53125 48.484375 33.40625 48.484375 \nQ 26.265625 48.484375 22.1875 42.84375 \nQ 18.109375 37.203125 18.109375 27.296875 \nQ 18.109375 17.390625 22.1875 11.75 \nQ 26.265625 6.109375 33.40625 6.109375 \nQ 40.53125 6.109375 44.609375 11.75 \nQ 48.6875 17.390625 48.6875 27.296875 \nz\nM 18.109375 46.390625 \nQ 20.953125 51.265625 25.265625 53.625 \nQ 29.59375 56 35.59375 56 \nQ 45.5625 56 51.78125 48.09375 \nQ 58.015625 40.1875 58.015625 27.296875 \nQ 58.015625 14.40625 51.78125 6.484375 \nQ 45.5625 -1.421875 35.59375 -1.421875 \nQ 29.59375 -1.421875 25.265625 0.953125 \nQ 20.953125 3.328125 18.109375 8.203125 \nL 18.109375 0 \nL 9.078125 0 \nL 9.078125 75.984375 \nL 18.109375 75.984375 \nz\n\" id=\"DejaVuSans-98\"/>\n     <path d=\"M 30.609375 48.390625 \nQ 23.390625 48.390625 19.1875 42.75 \nQ 14.984375 37.109375 14.984375 27.296875 \nQ 14.984375 17.484375 19.15625 11.84375 \nQ 23.34375 6.203125 30.609375 6.203125 \nQ 37.796875 6.203125 41.984375 11.859375 \nQ 46.1875 17.53125 46.1875 27.296875 \nQ 46.1875 37.015625 41.984375 42.703125 \nQ 37.796875 48.390625 30.609375 48.390625 \nz\nM 30.609375 56 \nQ 42.328125 56 49.015625 48.375 \nQ 55.71875 40.765625 55.71875 27.296875 \nQ 55.71875 13.875 49.015625 6.21875 \nQ 42.328125 -1.421875 30.609375 -1.421875 \nQ 18.84375 -1.421875 12.171875 6.21875 \nQ 5.515625 13.875 5.515625 27.296875 \nQ 5.515625 40.765625 12.171875 48.375 \nQ 18.84375 56 30.609375 56 \nz\n\" id=\"DejaVuSans-111\"/>\n     <path d=\"M 18.3125 70.21875 \nL 18.3125 54.6875 \nL 36.8125 54.6875 \nL 36.8125 47.703125 \nL 18.3125 47.703125 \nL 18.3125 18.015625 \nQ 18.3125 11.328125 20.140625 9.421875 \nQ 21.96875 7.515625 27.59375 7.515625 \nL 36.8125 7.515625 \nL 36.8125 0 \nL 27.59375 0 \nQ 17.1875 0 13.234375 3.875 \nQ 9.28125 7.765625 9.28125 18.015625 \nL 9.28125 47.703125 \nL 2.6875 47.703125 \nL 2.6875 54.6875 \nL 9.28125 54.6875 \nL 9.28125 70.21875 \nz\n\" id=\"DejaVuSans-116\"/>\n    </defs>\n    <g transform=\"translate(50.719732 16.318125)scale(0.12 -0.12)\">\n     <use xlink:href=\"#DejaVuSans-97\"/>\n     <use x=\"61.279297\" xlink:href=\"#DejaVuSans-110\"/>\n     <use x=\"124.658203\" xlink:href=\"#DejaVuSans-107\"/>\n     <use x=\"182.568359\" xlink:href=\"#DejaVuSans-108\"/>\n     <use x=\"210.351562\" xlink:href=\"#DejaVuSans-101\"/>\n     <use x=\"271.875\" xlink:href=\"#DejaVuSans-32\"/>\n     <use x=\"303.662109\" xlink:href=\"#DejaVuSans-98\"/>\n     <use x=\"367.138672\" xlink:href=\"#DejaVuSans-111\"/>\n     <use x=\"428.320312\" xlink:href=\"#DejaVuSans-111\"/>\n     <use x=\"489.501953\" xlink:href=\"#DejaVuSans-116\"/>\n    </g>\n    <!-- ankle boot -->\n    <g transform=\"translate(50.719732 29.7555)scale(0.12 -0.12)\">\n     <use xlink:href=\"#DejaVuSans-97\"/>\n     <use x=\"61.279297\" xlink:href=\"#DejaVuSans-110\"/>\n     <use x=\"124.658203\" xlink:href=\"#DejaVuSans-107\"/>\n     <use x=\"182.568359\" xlink:href=\"#DejaVuSans-108\"/>\n     <use x=\"210.351562\" xlink:href=\"#DejaVuSans-101\"/>\n     <use x=\"271.875\" xlink:href=\"#DejaVuSans-32\"/>\n     <use x=\"303.662109\" xlink:href=\"#DejaVuSans-98\"/>\n     <use x=\"367.138672\" xlink:href=\"#DejaVuSans-111\"/>\n     <use x=\"428.320312\" xlink:href=\"#DejaVuSans-111\"/>\n     <use x=\"489.501953\" xlink:href=\"#DejaVuSans-116\"/>\n    </g>\n   </g>\n  </g>\n  <g id=\"axes_2\">\n   <g id=\"patch_7\">\n    <path d=\"M 182.882857 179.241214 \nL 326.368571 179.241214 \nL 326.368571 35.7555 \nL 182.882857 35.7555 \nz\n\" style=\"fill:#ffffff;\"/>\n   </g>\n   <g clip-path=\"url(#p0528589c86)\">\n    <image height=\"144\" id=\"imagebdb45c8218\" transform=\"scale(1 -1)translate(0 -144)\" width=\"144\" x=\"182.882857\" xlink:href=\"data:image/png;base64,\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\" y=\"-35.241214\"/>\n   </g>\n   <g id=\"patch_8\">\n    <path d=\"M 182.882857 179.241214 \nL 182.882857 35.7555 \n\" style=\"fill:none;stroke:#000000;stroke-linecap:square;stroke-linejoin:miter;stroke-width:0.8;\"/>\n   </g>\n   <g id=\"patch_9\">\n    <path d=\"M 326.368571 179.241214 \nL 326.368571 35.7555 \n\" style=\"fill:none;stroke:#000000;stroke-linecap:square;stroke-linejoin:miter;stroke-width:0.8;\"/>\n   </g>\n   <g id=\"patch_10\">\n    <path d=\"M 182.882857 179.241214 \nL 326.368571 179.241214 \n\" style=\"fill:none;stroke:#000000;stroke-linecap:square;stroke-linejoin:miter;stroke-width:0.8;\"/>\n   </g>\n   <g id=\"patch_11\">\n    <path d=\"M 182.882857 35.7555 \nL 326.368571 35.7555 \n\" style=\"fill:none;stroke:#000000;stroke-linecap:square;stroke-linejoin:miter;stroke-width:0.8;\"/>\n   </g>\n   <g id=\"text_2\">\n    <!-- pullover -->\n    <defs>\n     <path d=\"M 18.109375 8.203125 \nL 18.109375 -20.796875 \nL 9.078125 -20.796875 \nL 9.078125 54.6875 \nL 18.109375 54.6875 \nL 18.109375 46.390625 \nQ 20.953125 51.265625 25.265625 53.625 \nQ 29.59375 56 35.59375 56 \nQ 45.5625 56 51.78125 48.09375 \nQ 58.015625 40.1875 58.015625 27.296875 \nQ 58.015625 14.40625 51.78125 6.484375 \nQ 45.5625 -1.421875 35.59375 -1.421875 \nQ 29.59375 -1.421875 25.265625 0.953125 \nQ 20.953125 3.328125 18.109375 8.203125 \nz\nM 48.6875 27.296875 \nQ 48.6875 37.203125 44.609375 42.84375 \nQ 40.53125 48.484375 33.40625 48.484375 \nQ 26.265625 48.484375 22.1875 42.84375 \nQ 18.109375 37.203125 18.109375 27.296875 \nQ 18.109375 17.390625 22.1875 11.75 \nQ 26.265625 6.109375 33.40625 6.109375 \nQ 40.53125 6.109375 44.609375 11.75 \nQ 48.6875 17.390625 48.6875 27.296875 \nz\n\" id=\"DejaVuSans-112\"/>\n     <path d=\"M 8.5 21.578125 \nL 8.5 54.6875 \nL 17.484375 54.6875 \nL 17.484375 21.921875 \nQ 17.484375 14.15625 20.5 10.265625 \nQ 23.53125 6.390625 29.59375 6.390625 \nQ 36.859375 6.390625 41.078125 11.03125 \nQ 45.3125 15.671875 45.3125 23.6875 \nL 45.3125 54.6875 \nL 54.296875 54.6875 \nL 54.296875 0 \nL 45.3125 0 \nL 45.3125 8.40625 \nQ 42.046875 3.421875 37.71875 1 \nQ 33.40625 -1.421875 27.6875 -1.421875 \nQ 18.265625 -1.421875 13.375 4.4375 \nQ 8.5 10.296875 8.5 21.578125 \nz\nM 31.109375 56 \nz\n\" id=\"DejaVuSans-117\"/>\n     <path d=\"M 2.984375 54.6875 \nL 12.5 54.6875 \nL 29.59375 8.796875 \nL 46.6875 54.6875 \nL 56.203125 54.6875 \nL 35.6875 0 \nL 23.484375 0 \nz\n\" id=\"DejaVuSans-118\"/>\n     <path d=\"M 41.109375 46.296875 \nQ 39.59375 47.171875 37.8125 47.578125 \nQ 36.03125 48 33.890625 48 \nQ 26.265625 48 22.1875 43.046875 \nQ 18.109375 38.09375 18.109375 28.8125 \nL 18.109375 0 \nL 9.078125 0 \nL 9.078125 54.6875 \nL 18.109375 54.6875 \nL 18.109375 46.1875 \nQ 20.953125 51.171875 25.484375 53.578125 \nQ 30.03125 56 36.53125 56 \nQ 37.453125 56 38.578125 55.875 \nQ 39.703125 55.765625 41.0625 55.515625 \nz\n\" id=\"DejaVuSans-114\"/>\n    </defs>\n    <g transform=\"translate(230.299464 16.318125)scale(0.12 -0.12)\">\n     <use xlink:href=\"#DejaVuSans-112\"/>\n     <use x=\"63.476562\" xlink:href=\"#DejaVuSans-117\"/>\n     <use x=\"126.855469\" xlink:href=\"#DejaVuSans-108\"/>\n     <use x=\"154.638672\" xlink:href=\"#DejaVuSans-108\"/>\n     <use x=\"182.421875\" xlink:href=\"#DejaVuSans-111\"/>\n     <use x=\"243.603516\" xlink:href=\"#DejaVuSans-118\"/>\n     <use x=\"302.783203\" xlink:href=\"#DejaVuSans-101\"/>\n     <use x=\"364.306641\" xlink:href=\"#DejaVuSans-114\"/>\n    </g>\n    <!-- pullover -->\n    <g transform=\"translate(230.299464 29.7555)scale(0.12 -0.12)\">\n     <use xlink:href=\"#DejaVuSans-112\"/>\n     <use x=\"63.476562\" xlink:href=\"#DejaVuSans-117\"/>\n     <use x=\"126.855469\" xlink:href=\"#DejaVuSans-108\"/>\n     <use x=\"154.638672\" xlink:href=\"#DejaVuSans-108\"/>\n     <use x=\"182.421875\" xlink:href=\"#DejaVuSans-111\"/>\n     <use x=\"243.603516\" xlink:href=\"#DejaVuSans-118\"/>\n     <use x=\"302.783203\" xlink:href=\"#DejaVuSans-101\"/>\n     <use x=\"364.306641\" xlink:href=\"#DejaVuSans-114\"/>\n    </g>\n   </g>\n  </g>\n  <g id=\"axes_3\">\n   <g id=\"patch_12\">\n    <path d=\"M 355.065714 179.241214 \nL 498.551429 179.241214 \nL 498.551429 35.7555 \nL 355.065714 35.7555 \nz\n\" style=\"fill:#ffffff;\"/>\n   </g>\n   <g clip-path=\"url(#p9c3633d312)\">\n    <image height=\"144\" id=\"imageb0a89a84e3\" transform=\"scale(1 -1)translate(0 -144)\" width=\"144\" x=\"355.065714\" xlink:href=\"data:image/png;base64,\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\" y=\"-35.241214\"/>\n   </g>\n   <g id=\"patch_13\">\n    <path d=\"M 355.065714 179.241214 \nL 355.065714 35.7555 \n\" style=\"fill:none;stroke:#000000;stroke-linecap:square;stroke-linejoin:miter;stroke-width:0.8;\"/>\n   </g>\n   <g id=\"patch_14\">\n    <path d=\"M 498.551429 179.241214 \nL 498.551429 35.7555 \n\" style=\"fill:none;stroke:#000000;stroke-linecap:square;stroke-linejoin:miter;stroke-width:0.8;\"/>\n   </g>\n   <g id=\"patch_15\">\n    <path d=\"M 355.065714 179.241214 \nL 498.551429 179.241214 \n\" style=\"fill:none;stroke:#000000;stroke-linecap:square;stroke-linejoin:miter;stroke-width:0.8;\"/>\n   </g>\n   <g id=\"patch_16\">\n    <path d=\"M 355.065714 35.7555 \nL 498.551429 35.7555 \n\" style=\"fill:none;stroke:#000000;stroke-linecap:square;stroke-linejoin:miter;stroke-width:0.8;\"/>\n   </g>\n   <g id=\"text_3\">\n    <!-- trouser -->\n    <defs>\n     <path d=\"M 44.28125 53.078125 \nL 44.28125 44.578125 \nQ 40.484375 46.53125 36.375 47.5 \nQ 32.28125 48.484375 27.875 48.484375 \nQ 21.1875 48.484375 17.84375 46.4375 \nQ 14.5 44.390625 14.5 40.28125 \nQ 14.5 37.15625 16.890625 35.375 \nQ 19.28125 33.59375 26.515625 31.984375 \nL 29.59375 31.296875 \nQ 39.15625 29.25 43.1875 25.515625 \nQ 47.21875 21.78125 47.21875 15.09375 \nQ 47.21875 7.46875 41.1875 3.015625 \nQ 35.15625 -1.421875 24.609375 -1.421875 \nQ 20.21875 -1.421875 15.453125 -0.5625 \nQ 10.6875 0.296875 5.421875 2 \nL 5.421875 11.28125 \nQ 10.40625 8.6875 15.234375 7.390625 \nQ 20.0625 6.109375 24.8125 6.109375 \nQ 31.15625 6.109375 34.5625 8.28125 \nQ 37.984375 10.453125 37.984375 14.40625 \nQ 37.984375 18.0625 35.515625 20.015625 \nQ 33.0625 21.96875 24.703125 23.78125 \nL 21.578125 24.515625 \nQ 13.234375 26.265625 9.515625 29.90625 \nQ 5.8125 33.546875 5.8125 39.890625 \nQ 5.8125 47.609375 11.28125 51.796875 \nQ 16.75 56 26.8125 56 \nQ 31.78125 56 36.171875 55.265625 \nQ 40.578125 54.546875 44.28125 53.078125 \nz\n\" id=\"DejaVuSans-115\"/>\n    </defs>\n    <g transform=\"translate(405.367009 16.318125)scale(0.12 -0.12)\">\n     <use xlink:href=\"#DejaVuSans-116\"/>\n     <use x=\"39.208984\" xlink:href=\"#DejaVuSans-114\"/>\n     <use x=\"78.072266\" xlink:href=\"#DejaVuSans-111\"/>\n     <use x=\"139.253906\" xlink:href=\"#DejaVuSans-117\"/>\n     <use x=\"202.632812\" xlink:href=\"#DejaVuSans-115\"/>\n     <use x=\"254.732422\" xlink:href=\"#DejaVuSans-101\"/>\n     <use x=\"316.255859\" xlink:href=\"#DejaVuSans-114\"/>\n    </g>\n    <!-- trouser -->\n    <g transform=\"translate(405.367009 29.7555)scale(0.12 -0.12)\">\n     <use xlink:href=\"#DejaVuSans-116\"/>\n     <use x=\"39.208984\" xlink:href=\"#DejaVuSans-114\"/>\n     <use x=\"78.072266\" xlink:href=\"#DejaVuSans-111\"/>\n     <use x=\"139.253906\" xlink:href=\"#DejaVuSans-117\"/>\n     <use x=\"202.632812\" xlink:href=\"#DejaVuSans-115\"/>\n     <use x=\"254.732422\" xlink:href=\"#DejaVuSans-101\"/>\n     <use x=\"316.255859\" xlink:href=\"#DejaVuSans-114\"/>\n    </g>\n   </g>\n  </g>\n  <g id=\"axes_4\">\n   <g id=\"patch_17\">\n    <path d=\"M 527.248571 179.241214 \nL 670.734286 179.241214 \nL 670.734286 35.7555 \nL 527.248571 35.7555 \nz\n\" style=\"fill:#ffffff;\"/>\n   </g>\n   <g clip-path=\"url(#p900c04007b)\">\n    <image height=\"144\" id=\"image45539a528b\" transform=\"scale(1 -1)translate(0 -144)\" width=\"144\" x=\"527.248571\" xlink:href=\"data:image/png;base64,\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\" y=\"-35.241214\"/>\n   </g>\n   <g id=\"patch_18\">\n    <path d=\"M 527.248571 179.241214 \nL 527.248571 35.7555 \n\" style=\"fill:none;stroke:#000000;stroke-linecap:square;stroke-linejoin:miter;stroke-width:0.8;\"/>\n   </g>\n   <g id=\"patch_19\">\n    <path d=\"M 670.734286 179.241214 \nL 670.734286 35.7555 \n\" style=\"fill:none;stroke:#000000;stroke-linecap:square;stroke-linejoin:miter;stroke-width:0.8;\"/>\n   </g>\n   <g id=\"patch_20\">\n    <path d=\"M 527.248571 179.241214 \nL 670.734286 179.241214 \n\" style=\"fill:none;stroke:#000000;stroke-linecap:square;stroke-linejoin:miter;stroke-width:0.8;\"/>\n   </g>\n   <g id=\"patch_21\">\n    <path d=\"M 527.248571 35.7555 \nL 670.734286 35.7555 \n\" style=\"fill:none;stroke:#000000;stroke-linecap:square;stroke-linejoin:miter;stroke-width:0.8;\"/>\n   </g>\n   <g id=\"text_4\">\n    <!-- trouser -->\n    <g transform=\"translate(577.549866 16.318125)scale(0.12 -0.12)\">\n     <use xlink:href=\"#DejaVuSans-116\"/>\n     <use x=\"39.208984\" xlink:href=\"#DejaVuSans-114\"/>\n     <use x=\"78.072266\" xlink:href=\"#DejaVuSans-111\"/>\n     <use x=\"139.253906\" xlink:href=\"#DejaVuSans-117\"/>\n     <use x=\"202.632812\" xlink:href=\"#DejaVuSans-115\"/>\n     <use x=\"254.732422\" xlink:href=\"#DejaVuSans-101\"/>\n     <use x=\"316.255859\" xlink:href=\"#DejaVuSans-114\"/>\n    </g>\n    <!-- trouser -->\n    <g transform=\"translate(577.549866 29.7555)scale(0.12 -0.12)\">\n     <use xlink:href=\"#DejaVuSans-116\"/>\n     <use x=\"39.208984\" xlink:href=\"#DejaVuSans-114\"/>\n     <use x=\"78.072266\" xlink:href=\"#DejaVuSans-111\"/>\n     <use x=\"139.253906\" xlink:href=\"#DejaVuSans-117\"/>\n     <use x=\"202.632812\" xlink:href=\"#DejaVuSans-115\"/>\n     <use x=\"254.732422\" xlink:href=\"#DejaVuSans-101\"/>\n     <use x=\"316.255859\" xlink:href=\"#DejaVuSans-114\"/>\n    </g>\n   </g>\n  </g>\n  <g id=\"axes_5\">\n   <g id=\"patch_22\">\n    <path d=\"M 699.431429 179.241214 \nL 842.917143 179.241214 \nL 842.917143 35.7555 \nL 699.431429 35.7555 \nz\n\" style=\"fill:#ffffff;\"/>\n   </g>\n   <g clip-path=\"url(#p6d0a0772b8)\">\n    <image height=\"144\" id=\"image53f94427aa\" transform=\"scale(1 -1)translate(0 -144)\" width=\"144\" x=\"699.431429\" xlink:href=\"data:image/png;base64,\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\" y=\"-35.241214\"/>\n   </g>\n   <g id=\"patch_23\">\n    <path d=\"M 699.431429 179.241214 \nL 699.431429 35.7555 \n\" style=\"fill:none;stroke:#000000;stroke-linecap:square;stroke-linejoin:miter;stroke-width:0.8;\"/>\n   </g>\n   <g id=\"patch_24\">\n    <path d=\"M 842.917143 179.241214 \nL 842.917143 35.7555 \n\" style=\"fill:none;stroke:#000000;stroke-linecap:square;stroke-linejoin:miter;stroke-width:0.8;\"/>\n   </g>\n   <g id=\"patch_25\">\n    <path d=\"M 699.431429 179.241214 \nL 842.917143 179.241214 \n\" style=\"fill:none;stroke:#000000;stroke-linecap:square;stroke-linejoin:miter;stroke-width:0.8;\"/>\n   </g>\n   <g id=\"patch_26\">\n    <path d=\"M 699.431429 35.7555 \nL 842.917143 35.7555 \n\" style=\"fill:none;stroke:#000000;stroke-linecap:square;stroke-linejoin:miter;stroke-width:0.8;\"/>\n   </g>\n   <g id=\"text_5\">\n    <!-- shirt -->\n    <defs>\n     <path d=\"M 54.890625 33.015625 \nL 54.890625 0 \nL 45.90625 0 \nL 45.90625 32.71875 \nQ 45.90625 40.484375 42.875 44.328125 \nQ 39.84375 48.1875 33.796875 48.1875 \nQ 26.515625 48.1875 22.3125 43.546875 \nQ 18.109375 38.921875 18.109375 30.90625 \nL 18.109375 0 \nL 9.078125 0 \nL 9.078125 75.984375 \nL 18.109375 75.984375 \nL 18.109375 46.1875 \nQ 21.34375 51.125 25.703125 53.5625 \nQ 30.078125 56 35.796875 56 \nQ 45.21875 56 50.046875 50.171875 \nQ 54.890625 44.34375 54.890625 33.015625 \nz\n\" id=\"DejaVuSans-104\"/>\n     <path d=\"M 9.421875 54.6875 \nL 18.40625 54.6875 \nL 18.40625 0 \nL 9.421875 0 \nz\nM 9.421875 75.984375 \nL 18.40625 75.984375 \nL 18.40625 64.59375 \nL 9.421875 64.59375 \nz\n\" id=\"DejaVuSans-105\"/>\n    </defs>\n    <g transform=\"translate(757.760536 16.318125)scale(0.12 -0.12)\">\n     <use xlink:href=\"#DejaVuSans-115\"/>\n     <use x=\"52.099609\" xlink:href=\"#DejaVuSans-104\"/>\n     <use x=\"115.478516\" xlink:href=\"#DejaVuSans-105\"/>\n     <use x=\"143.261719\" xlink:href=\"#DejaVuSans-114\"/>\n     <use x=\"184.375\" xlink:href=\"#DejaVuSans-116\"/>\n    </g>\n    <!-- shirt -->\n    <g transform=\"translate(757.760536 29.7555)scale(0.12 -0.12)\">\n     <use xlink:href=\"#DejaVuSans-115\"/>\n     <use x=\"52.099609\" xlink:href=\"#DejaVuSans-104\"/>\n     <use x=\"115.478516\" xlink:href=\"#DejaVuSans-105\"/>\n     <use x=\"143.261719\" xlink:href=\"#DejaVuSans-114\"/>\n     <use x=\"184.375\" xlink:href=\"#DejaVuSans-116\"/>\n    </g>\n   </g>\n  </g>\n  <g id=\"axes_6\">\n   <g id=\"patch_27\">\n    <path d=\"M 871.614286 179.241214 \nL 1015.1 179.241214 \nL 1015.1 35.7555 \nL 871.614286 35.7555 \nz\n\" style=\"fill:#ffffff;\"/>\n   </g>\n   <g clip-path=\"url(#p35156dc948)\">\n    <image height=\"144\" id=\"image6a4f9a1578\" transform=\"scale(1 -1)translate(0 -144)\" width=\"144\" x=\"871.614286\" xlink:href=\"data:image/png;base64,\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\" y=\"-35.241214\"/>\n   </g>\n   <g id=\"patch_28\">\n    <path d=\"M 871.614286 179.241214 \nL 871.614286 35.7555 \n\" style=\"fill:none;stroke:#000000;stroke-linecap:square;stroke-linejoin:miter;stroke-width:0.8;\"/>\n   </g>\n   <g id=\"patch_29\">\n    <path d=\"M 1015.1 179.241214 \nL 1015.1 35.7555 \n\" style=\"fill:none;stroke:#000000;stroke-linecap:square;stroke-linejoin:miter;stroke-width:0.8;\"/>\n   </g>\n   <g id=\"patch_30\">\n    <path d=\"M 871.614286 179.241214 \nL 1015.1 179.241214 \n\" style=\"fill:none;stroke:#000000;stroke-linecap:square;stroke-linejoin:miter;stroke-width:0.8;\"/>\n   </g>\n   <g id=\"patch_31\">\n    <path d=\"M 871.614286 35.7555 \nL 1015.1 35.7555 \n\" style=\"fill:none;stroke:#000000;stroke-linecap:square;stroke-linejoin:miter;stroke-width:0.8;\"/>\n   </g>\n   <g id=\"text_6\">\n    <!-- trouser -->\n    <g transform=\"translate(921.91558 16.318125)scale(0.12 -0.12)\">\n     <use xlink:href=\"#DejaVuSans-116\"/>\n     <use x=\"39.208984\" xlink:href=\"#DejaVuSans-114\"/>\n     <use x=\"78.072266\" xlink:href=\"#DejaVuSans-111\"/>\n     <use x=\"139.253906\" xlink:href=\"#DejaVuSans-117\"/>\n     <use x=\"202.632812\" xlink:href=\"#DejaVuSans-115\"/>\n     <use x=\"254.732422\" xlink:href=\"#DejaVuSans-101\"/>\n     <use x=\"316.255859\" xlink:href=\"#DejaVuSans-114\"/>\n    </g>\n    <!-- trouser -->\n    <g transform=\"translate(921.91558 29.7555)scale(0.12 -0.12)\">\n     <use xlink:href=\"#DejaVuSans-116\"/>\n     <use x=\"39.208984\" xlink:href=\"#DejaVuSans-114\"/>\n     <use x=\"78.072266\" xlink:href=\"#DejaVuSans-111\"/>\n     <use x=\"139.253906\" xlink:href=\"#DejaVuSans-117\"/>\n     <use x=\"202.632812\" xlink:href=\"#DejaVuSans-115\"/>\n     <use x=\"254.732422\" xlink:href=\"#DejaVuSans-101\"/>\n     <use x=\"316.255859\" xlink:href=\"#DejaVuSans-114\"/>\n    </g>\n   </g>\n  </g>\n </g>\n <defs>\n  <clipPath id=\"p4ce8f02eae\">\n   <rect height=\"143.485714\" width=\"143.485714\" x=\"10.7\" y=\"35.7555\"/>\n  </clipPath>\n  <clipPath id=\"p0528589c86\">\n   <rect height=\"143.485714\" width=\"143.485714\" x=\"182.882857\" y=\"35.7555\"/>\n  </clipPath>\n  <clipPath id=\"p9c3633d312\">\n   <rect height=\"143.485714\" width=\"143.485714\" x=\"355.065714\" y=\"35.7555\"/>\n  </clipPath>\n  <clipPath id=\"p900c04007b\">\n   <rect height=\"143.485714\" width=\"143.485714\" x=\"527.248571\" y=\"35.7555\"/>\n  </clipPath>\n  <clipPath id=\"p6d0a0772b8\">\n   <rect height=\"143.485714\" width=\"143.485714\" x=\"699.431429\" y=\"35.7555\"/>\n  </clipPath>\n  <clipPath id=\"p35156dc948\">\n   <rect height=\"143.485714\" width=\"143.485714\" x=\"871.614286\" y=\"35.7555\"/>\n  </clipPath>\n </defs>\n</svg>\n"
          },
          "metadata": {
            "needs_background": "light"
          }
        }
      ]
    }
  ]
}